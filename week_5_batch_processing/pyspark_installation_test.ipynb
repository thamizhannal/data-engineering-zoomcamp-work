{
 "cells": [
  {
   "cell_type": "code",
   "execution_count": 1,
   "id": "1b519957",
   "metadata": {},
   "outputs": [],
   "source": [
    "import pyspark\n",
    "\n"
   ]
  },
  {
   "cell_type": "code",
   "execution_count": 10,
   "id": "2a8c7147",
   "metadata": {},
   "outputs": [
    {
     "data": {
      "text/plain": [
       "'3.0.3'"
      ]
     },
     "execution_count": 10,
     "metadata": {},
     "output_type": "execute_result"
    }
   ],
   "source": [
    "pyspark.__version__"
   ]
  },
  {
   "cell_type": "code",
   "execution_count": 11,
   "id": "fc037555",
   "metadata": {},
   "outputs": [
    {
     "data": {
      "text/plain": [
       "'/home/thamizh/apps/spark-3.0.3-bin-hadoop3.2/python/pyspark/__init__.py'"
      ]
     },
     "execution_count": 11,
     "metadata": {},
     "output_type": "execute_result"
    }
   ],
   "source": [
    "pyspark.__file__"
   ]
  },
  {
   "cell_type": "code",
   "execution_count": 12,
   "id": "b7cb3046",
   "metadata": {},
   "outputs": [],
   "source": [
    "from pyspark.sql import SparkSession"
   ]
  },
  {
   "cell_type": "markdown",
   "id": "77629731",
   "metadata": {},
   "source": [
    "### Master is local and number of processor to be used for computation\n",
    "getOrCreate - get an existing spark session or create a new one"
   ]
  },
  {
   "cell_type": "code",
   "execution_count": 2,
   "id": "1146c3fd",
   "metadata": {},
   "outputs": [
    {
     "name": "stderr",
     "output_type": "stream",
     "text": [
      "22/07/04 13:19:02 WARN Utils: Your hostname, DESKTOP-KMM8QC4 resolves to a loopback address: 127.0.1.1; using 172.24.131.74 instead (on interface eth0)\n",
      "22/07/04 13:19:02 WARN Utils: Set SPARK_LOCAL_IP if you need to bind to another address\n",
      "WARNING: An illegal reflective access operation has occurred\n",
      "WARNING: Illegal reflective access by org.apache.spark.unsafe.Platform (file:/home/thamizh/apps/spark-3.0.3-bin-hadoop3.2/jars/spark-unsafe_2.12-3.0.3.jar) to constructor java.nio.DirectByteBuffer(long,int)\n",
      "WARNING: Please consider reporting this to the maintainers of org.apache.spark.unsafe.Platform\n",
      "WARNING: Use --illegal-access=warn to enable warnings of further illegal reflective access operations\n",
      "WARNING: All illegal access operations will be denied in a future release\n",
      "22/07/04 13:19:04 WARN NativeCodeLoader: Unable to load native-hadoop library for your platform... using builtin-java classes where applicable\n",
      "Using Spark's default log4j profile: org/apache/spark/log4j-defaults.properties\n",
      "Setting default log level to \"WARN\".\n",
      "To adjust logging level use sc.setLogLevel(newLevel). For SparkR, use setLogLevel(newLevel).\n"
     ]
    }
   ],
   "source": [
    "spark = SparkSession.builder \\\n",
    "    .master(\"local[*]\") \\\n",
    "    .appName('test') \\\n",
    "    .getOrCreate()\n"
   ]
  },
  {
   "cell_type": "markdown",
   "id": "122efea0",
   "metadata": {},
   "source": [
    "### if hearder is false then colum displayed with index value\n",
    "like _c0, _c1, _c2 etc"
   ]
  },
  {
   "cell_type": "code",
   "execution_count": 13,
   "id": "30e186ef",
   "metadata": {},
   "outputs": [],
   "source": [
    "df = spark.read \\\n",
    "    .option(\"header\", \"true\") \\\n",
    "    .csv('taxi+_zone_lookup.csv')\n",
    "\n"
   ]
  },
  {
   "cell_type": "code",
   "execution_count": 14,
   "id": "e468cfdd",
   "metadata": {},
   "outputs": [
    {
     "name": "stdout",
     "output_type": "stream",
     "text": [
      "+----------+-------------+--------------------+------------+\n",
      "|LocationID|      Borough|                Zone|service_zone|\n",
      "+----------+-------------+--------------------+------------+\n",
      "|         1|          EWR|      Newark Airport|         EWR|\n",
      "|         2|       Queens|         Jamaica Bay|   Boro Zone|\n",
      "|         3|        Bronx|Allerton/Pelham G...|   Boro Zone|\n",
      "|         4|    Manhattan|       Alphabet City| Yellow Zone|\n",
      "|         5|Staten Island|       Arden Heights|   Boro Zone|\n",
      "|         6|Staten Island|Arrochar/Fort Wad...|   Boro Zone|\n",
      "|         7|       Queens|             Astoria|   Boro Zone|\n",
      "|         8|       Queens|        Astoria Park|   Boro Zone|\n",
      "|         9|       Queens|          Auburndale|   Boro Zone|\n",
      "|        10|       Queens|        Baisley Park|   Boro Zone|\n",
      "|        11|     Brooklyn|          Bath Beach|   Boro Zone|\n",
      "|        12|    Manhattan|        Battery Park| Yellow Zone|\n",
      "|        13|    Manhattan|   Battery Park City| Yellow Zone|\n",
      "|        14|     Brooklyn|           Bay Ridge|   Boro Zone|\n",
      "|        15|       Queens|Bay Terrace/Fort ...|   Boro Zone|\n",
      "|        16|       Queens|             Bayside|   Boro Zone|\n",
      "|        17|     Brooklyn|             Bedford|   Boro Zone|\n",
      "|        18|        Bronx|        Bedford Park|   Boro Zone|\n",
      "|        19|       Queens|           Bellerose|   Boro Zone|\n",
      "|        20|        Bronx|             Belmont|   Boro Zone|\n",
      "+----------+-------------+--------------------+------------+\n",
      "only showing top 20 rows\n",
      "\n"
     ]
    }
   ],
   "source": [
    "df.show()"
   ]
  },
  {
   "cell_type": "code",
   "execution_count": 6,
   "id": "668c5c89",
   "metadata": {},
   "outputs": [
    {
     "name": "stderr",
     "output_type": "stream",
     "text": [
      "                                                                                \r"
     ]
    }
   ],
   "source": [
    "df.write.parquet('zones001')"
   ]
  },
  {
   "cell_type": "code",
   "execution_count": 15,
   "id": "78bc4735",
   "metadata": {},
   "outputs": [
    {
     "name": "stdout",
     "output_type": "stream",
     "text": [
      "total 1.7G\r\n",
      "-rwxr-xr-x  1 thamizh thamizh 659M May 11 00:05 Anaconda3-2022.05-Linux-x86_64.sh\r\n",
      "-rw-r--r--  1 thamizh thamizh 659M May 11 00:05 Anaconda3-2022.05-Linux-x86_64.sh.1\r\n",
      "-rw-r--r--  1 thamizh thamizh  490 Jul  2 22:41 Untitled.ipynb\r\n",
      "-rw-r--r--  1 thamizh thamizh 7.6K Jul  4 13:32 Untitled1.ipynb\r\n",
      "drwxr-xr-x 28 thamizh thamizh 4.0K May 16 19:35 anaconda3\r\n",
      "drwxr-xr-x  4 thamizh thamizh 4.0K Jul  2 22:35 apps\r\n",
      "-rw-r--r--  1 thamizh thamizh  12M May 12 21:11 fhv_tripdata_2021-01.parquet\r\n",
      "drwxr-xr-x  3 thamizh thamizh 4.0K May 16 19:54 mlops-zoomcamp\r\n",
      "-rw-r--r--  1 thamizh thamizh 179M Jul  2 22:26 openjdk-11.0.2_linux-x64_bin.tar.gz\r\n",
      "drwxr-xr-x  2 thamizh thamizh 4.0K May 16 17:44 soft\r\n",
      "drwxr-xr-x  2 thamizh thamizh 4.0K Jul  2 22:35 spark\r\n",
      "-rw-r--r--  1 thamizh thamizh 215M Jun 17  2021 spark-3.0.3-bin-hadoop3.2.tgz\r\n",
      "-rw-r--r--  1 thamizh thamizh  13K Aug 17  2016 taxi+_zone_lookup.csv\r\n",
      "-rw-r--r--  1 thamizh thamizh  47K May 16 17:43 wget-log\r\n",
      "-rw-r--r--  1 thamizh thamizh 144K May 26 20:25 wget-log.1\r\n",
      "drwxr-xr-x  2 thamizh thamizh 4.0K Jul  2 23:07 zones\r\n",
      "drwxr-xr-x  2 thamizh thamizh 4.0K Jul  4 13:19 zones001\r\n",
      "drwxr-xr-x  2 thamizh thamizh 4.0K Jul  3 22:22 zones1\r\n"
     ]
    }
   ],
   "source": [
    "!ls -lh"
   ]
  },
  {
   "cell_type": "code",
   "execution_count": 18,
   "id": "6431910f",
   "metadata": {},
   "outputs": [
    {
     "name": "stdout",
     "output_type": "stream",
     "text": [
      "_SUCCESS  part-00000-c36e49d0-f29c-4269-8288-7f79f984f0d7-c000.snappy.parquet\r\n"
     ]
    }
   ],
   "source": [
    "!ls zones001"
   ]
  },
  {
   "cell_type": "code",
   "execution_count": 8,
   "id": "a34baa2b",
   "metadata": {},
   "outputs": [
    {
     "name": "stdout",
     "output_type": "stream",
     "text": [
      "--2022-07-04 13:19:48--  https://s3.amazonaws.com/nyc-tlc/trip+data/fhv_tripdata_2021-01.parquet\n",
      "Resolving s3.amazonaws.com (s3.amazonaws.com)... 52.217.161.40\n",
      "Connecting to s3.amazonaws.com (s3.amazonaws.com)|52.217.161.40|:443... connected.\n",
      "HTTP request sent, awaiting response... 200 OK\n",
      "Length: 11886281 (11M) [binary/octet-stream]\n",
      "Saving to: ‘fhv_tripdata_2021-01.parquet’\n",
      "\n",
      "fhv_tripdata_2021-0 100%[===================>]  11.33M   278KB/s    in 28s     \n",
      "\n",
      "2022-07-04 13:20:17 (415 KB/s) - ‘fhv_tripdata_2021-01.parquet’ saved [11886281/11886281]\n",
      "\n"
     ]
    }
   ],
   "source": [
    "!wget https://s3.amazonaws.com/nyc-tlc/trip+data/fhv_tripdata_2021-01.parquet"
   ]
  },
  {
   "cell_type": "code",
   "execution_count": 16,
   "id": "31eca999",
   "metadata": {},
   "outputs": [
    {
     "name": "stdout",
     "output_type": "stream",
     "text": [
      "fhv_tripdata_2021-01.parquet\r\n"
     ]
    }
   ],
   "source": [
    "!ls fhv_tripdata_2021-01.parquet"
   ]
  },
  {
   "cell_type": "code",
   "execution_count": 17,
   "id": "88a4e398",
   "metadata": {},
   "outputs": [
    {
     "name": "stdout",
     "output_type": "stream",
     "text": [
      "12M\tfhv_tripdata_2021-01.parquet\r\n"
     ]
    }
   ],
   "source": [
    "!du -sh  fhv_tripdata_2021-01.parquet"
   ]
  },
  {
   "cell_type": "code",
   "execution_count": null,
   "id": "b43b0e57",
   "metadata": {},
   "outputs": [],
   "source": []
  }
 ],
 "metadata": {
  "kernelspec": {
   "display_name": "Python 3 (ipykernel)",
   "language": "python",
   "name": "python3"
  },
  "language_info": {
   "codemirror_mode": {
    "name": "ipython",
    "version": 3
   },
   "file_extension": ".py",
   "mimetype": "text/x-python",
   "name": "python",
   "nbconvert_exporter": "python",
   "pygments_lexer": "ipython3",
   "version": "3.9.12"
  }
 },
 "nbformat": 4,
 "nbformat_minor": 5
}
