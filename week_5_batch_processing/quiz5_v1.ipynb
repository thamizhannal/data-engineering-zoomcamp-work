{
 "cells": [
  {
   "cell_type": "markdown",
   "id": "91481419",
   "metadata": {},
   "source": [
    "# week5 Spark Homework Quiz"
   ]
  },
  {
   "cell_type": "markdown",
   "id": "0e566dbf",
   "metadata": {},
   "source": [
    "### Quiz 1.\n",
    "### Question 1. HVFHW February 2021\n",
    "In this homework we'll put what we learned about Spark in practice.\n",
    "\n",
    "We'll use high volume for-hire vehicles (HVFHV) dataset for that.\n",
    "\n",
    "Download the HVFHV data for february 2021:\n",
    "\n",
    "wget https://nyc-tlc.s3.amazonaws.com/trip+data/fhvhv_tripdata_2021-02.csv\n",
    "Read it with Spark using the same schema as we did in the lessons. We will use this dataset for all the remaining questions.\n",
    "\n",
    "Repartition it to 24 partitions and save it to parquet.\n",
    "\n",
    "* What's the size of the folder with results (in MB)?"
   ]
  },
  {
   "cell_type": "code",
   "execution_count": 3,
   "id": "89d54784",
   "metadata": {},
   "outputs": [
    {
     "name": "stdout",
     "output_type": "stream",
     "text": [
      "--2022-07-05 20:53:23--  https://s3.amazonaws.com/nyc-tlc/csv_backup/fhvhv_tripdata_2021-02.csv\n",
      "Resolving s3.amazonaws.com (s3.amazonaws.com)... 52.217.197.176\n",
      "Connecting to s3.amazonaws.com (s3.amazonaws.com)|52.217.197.176|:443... connected.\n",
      "HTTP request sent, awaiting response... 200 OK\n",
      "Length: 733822658 (700M) [text/csv]\n",
      "Saving to: ‘fhvhv_tripdata_2021-02.csv’\n",
      "\n",
      "fhvhv_tripdata_2021 100%[===================>] 699.83M  2.51MB/s    in 7m 44s  \n",
      "\n",
      "2022-07-05 21:01:08 (1.51 MB/s) - ‘fhvhv_tripdata_2021-02.csv’ saved [733822658/733822658]\n",
      "\n"
     ]
    }
   ],
   "source": [
    "#!wget https://nyc-tlc.s3.amazonaws.com/trip+data/fhvhv_tripdata_2021-02.csv\n",
    "!wget https://s3.amazonaws.com/nyc-tlc/csv_backup/fhvhv_tripdata_2021-02.csv    "
   ]
  },
  {
   "cell_type": "code",
   "execution_count": 16,
   "id": "12664bd0",
   "metadata": {},
   "outputs": [],
   "source": [
    "import pyspark\n",
    "from pyspark.sql import SparkSession\n",
    "from pyspark.sql.types import StringType, TimestampType, IntegerType, StructType, StructField"
   ]
  },
  {
   "cell_type": "code",
   "execution_count": 17,
   "id": "5fe54a70",
   "metadata": {},
   "outputs": [],
   "source": [
    "df = spark.read \\\n",
    "    .option(\"header\", \"true\") \\\n",
    "    .csv('fhvhv_tripdata_2021-02.csv')\n"
   ]
  },
  {
   "cell_type": "code",
   "execution_count": 18,
   "id": "6e99a6c7",
   "metadata": {},
   "outputs": [
    {
     "data": {
      "text/plain": [
       "StructType(List(StructField(hvfhs_license_num,StringType,true),StructField(dispatching_base_num,StringType,true),StructField(pickup_datetime,StringType,true),StructField(dropoff_datetime,StringType,true),StructField(PULocationID,StringType,true),StructField(DOLocationID,StringType,true),StructField(SR_Flag,StringType,true)))"
      ]
     },
     "execution_count": 18,
     "metadata": {},
     "output_type": "execute_result"
    }
   ],
   "source": [
    "df.schema"
   ]
  },
  {
   "cell_type": "code",
   "execution_count": 19,
   "id": "7a1a3e4e",
   "metadata": {},
   "outputs": [
    {
     "data": {
      "text/plain": [
       "['hvfhs_license_num',\n",
       " 'dispatching_base_num',\n",
       " 'pickup_datetime',\n",
       " 'dropoff_datetime',\n",
       " 'PULocationID',\n",
       " 'DOLocationID',\n",
       " 'SR_Flag']"
      ]
     },
     "execution_count": 19,
     "metadata": {},
     "output_type": "execute_result"
    }
   ],
   "source": [
    "df.columns"
   ]
  },
  {
   "cell_type": "code",
   "execution_count": 115,
   "id": "3dc9d462",
   "metadata": {},
   "outputs": [],
   "source": [
    "schema = StructType([\n",
    "    StructField('hvfhs_license_num', StringType(), True),\n",
    "    StructField('dispatching_base_num', StringType(), True),\n",
    "    StructField('pickup_datetime', TimestampType(), True),\n",
    "    StructField('dropoff_datetime', TimestampType(), True),\n",
    "    StructField('PULocationID', IntegerType(), True),\n",
    "    StructField('DOLocationID', IntegerType(), True),\n",
    "    StructField('SR_Flag', StringType(), True)\n",
    "])"
   ]
  },
  {
   "cell_type": "code",
   "execution_count": 119,
   "id": "12ddabe3",
   "metadata": {},
   "outputs": [],
   "source": [
    "df = spark.read \\\n",
    "    .option(\"header\", \"true\") \\\n",
    "    .schema(schema) \\\n",
    "    .csv('fhvhv_tripdata_2021-02.csv')"
   ]
  },
  {
   "cell_type": "code",
   "execution_count": 120,
   "id": "910c958c",
   "metadata": {},
   "outputs": [],
   "source": [
    "df = df.repartition(24)"
   ]
  },
  {
   "cell_type": "code",
   "execution_count": 122,
   "id": "478e58e8",
   "metadata": {},
   "outputs": [
    {
     "name": "stderr",
     "output_type": "stream",
     "text": [
      "                                                                                \r"
     ]
    }
   ],
   "source": [
    "df.write.parquet('fhvhv_tripdata/2021/02/', mode='overwrite')"
   ]
  },
  {
   "cell_type": "code",
   "execution_count": 123,
   "id": "3a6154a7",
   "metadata": {},
   "outputs": [
    {
     "name": "stdout",
     "output_type": "stream",
     "text": [
      "210M\tfhvhv_tripdata/\r\n"
     ]
    }
   ],
   "source": [
    "!du -sh fhvhv_tripdata/"
   ]
  },
  {
   "cell_type": "code",
   "execution_count": 124,
   "id": "ae073ae6",
   "metadata": {},
   "outputs": [
    {
     "name": "stdout",
     "output_type": "stream",
     "text": [
      "8.7M\t/home/thamizh/data-engineering-zoomcamp/week_5_batch_processing/code/fhvhv_tripdata/2021/02/part-00000-98d45f1b-31e7-4613-908e-92680769e48d-c000.snappy.parquet\r\n",
      "8.7M\t/home/thamizh/data-engineering-zoomcamp/week_5_batch_processing/code/fhvhv_tripdata/2021/02/part-00001-98d45f1b-31e7-4613-908e-92680769e48d-c000.snappy.parquet\r\n",
      "8.7M\t/home/thamizh/data-engineering-zoomcamp/week_5_batch_processing/code/fhvhv_tripdata/2021/02/part-00002-98d45f1b-31e7-4613-908e-92680769e48d-c000.snappy.parquet\r\n",
      "8.7M\t/home/thamizh/data-engineering-zoomcamp/week_5_batch_processing/code/fhvhv_tripdata/2021/02/part-00003-98d45f1b-31e7-4613-908e-92680769e48d-c000.snappy.parquet\r\n",
      "8.7M\t/home/thamizh/data-engineering-zoomcamp/week_5_batch_processing/code/fhvhv_tripdata/2021/02/part-00004-98d45f1b-31e7-4613-908e-92680769e48d-c000.snappy.parquet\r\n",
      "8.7M\t/home/thamizh/data-engineering-zoomcamp/week_5_batch_processing/code/fhvhv_tripdata/2021/02/part-00005-98d45f1b-31e7-4613-908e-92680769e48d-c000.snappy.parquet\r\n",
      "8.7M\t/home/thamizh/data-engineering-zoomcamp/week_5_batch_processing/code/fhvhv_tripdata/2021/02/part-00006-98d45f1b-31e7-4613-908e-92680769e48d-c000.snappy.parquet\r\n",
      "8.7M\t/home/thamizh/data-engineering-zoomcamp/week_5_batch_processing/code/fhvhv_tripdata/2021/02/part-00007-98d45f1b-31e7-4613-908e-92680769e48d-c000.snappy.parquet\r\n",
      "8.7M\t/home/thamizh/data-engineering-zoomcamp/week_5_batch_processing/code/fhvhv_tripdata/2021/02/part-00008-98d45f1b-31e7-4613-908e-92680769e48d-c000.snappy.parquet\r\n",
      "8.7M\t/home/thamizh/data-engineering-zoomcamp/week_5_batch_processing/code/fhvhv_tripdata/2021/02/part-00009-98d45f1b-31e7-4613-908e-92680769e48d-c000.snappy.parquet\r\n",
      "8.7M\t/home/thamizh/data-engineering-zoomcamp/week_5_batch_processing/code/fhvhv_tripdata/2021/02/part-00010-98d45f1b-31e7-4613-908e-92680769e48d-c000.snappy.parquet\r\n",
      "8.7M\t/home/thamizh/data-engineering-zoomcamp/week_5_batch_processing/code/fhvhv_tripdata/2021/02/part-00011-98d45f1b-31e7-4613-908e-92680769e48d-c000.snappy.parquet\r\n",
      "8.7M\t/home/thamizh/data-engineering-zoomcamp/week_5_batch_processing/code/fhvhv_tripdata/2021/02/part-00012-98d45f1b-31e7-4613-908e-92680769e48d-c000.snappy.parquet\r\n",
      "8.7M\t/home/thamizh/data-engineering-zoomcamp/week_5_batch_processing/code/fhvhv_tripdata/2021/02/part-00013-98d45f1b-31e7-4613-908e-92680769e48d-c000.snappy.parquet\r\n",
      "8.7M\t/home/thamizh/data-engineering-zoomcamp/week_5_batch_processing/code/fhvhv_tripdata/2021/02/part-00014-98d45f1b-31e7-4613-908e-92680769e48d-c000.snappy.parquet\r\n",
      "8.7M\t/home/thamizh/data-engineering-zoomcamp/week_5_batch_processing/code/fhvhv_tripdata/2021/02/part-00015-98d45f1b-31e7-4613-908e-92680769e48d-c000.snappy.parquet\r\n",
      "8.7M\t/home/thamizh/data-engineering-zoomcamp/week_5_batch_processing/code/fhvhv_tripdata/2021/02/part-00016-98d45f1b-31e7-4613-908e-92680769e48d-c000.snappy.parquet\r\n",
      "8.7M\t/home/thamizh/data-engineering-zoomcamp/week_5_batch_processing/code/fhvhv_tripdata/2021/02/part-00017-98d45f1b-31e7-4613-908e-92680769e48d-c000.snappy.parquet\r\n",
      "8.7M\t/home/thamizh/data-engineering-zoomcamp/week_5_batch_processing/code/fhvhv_tripdata/2021/02/part-00018-98d45f1b-31e7-4613-908e-92680769e48d-c000.snappy.parquet\r\n",
      "8.7M\t/home/thamizh/data-engineering-zoomcamp/week_5_batch_processing/code/fhvhv_tripdata/2021/02/part-00019-98d45f1b-31e7-4613-908e-92680769e48d-c000.snappy.parquet\r\n",
      "8.7M\t/home/thamizh/data-engineering-zoomcamp/week_5_batch_processing/code/fhvhv_tripdata/2021/02/part-00020-98d45f1b-31e7-4613-908e-92680769e48d-c000.snappy.parquet\r\n",
      "8.7M\t/home/thamizh/data-engineering-zoomcamp/week_5_batch_processing/code/fhvhv_tripdata/2021/02/part-00021-98d45f1b-31e7-4613-908e-92680769e48d-c000.snappy.parquet\r\n",
      "8.7M\t/home/thamizh/data-engineering-zoomcamp/week_5_batch_processing/code/fhvhv_tripdata/2021/02/part-00022-98d45f1b-31e7-4613-908e-92680769e48d-c000.snappy.parquet\r\n",
      "8.7M\t/home/thamizh/data-engineering-zoomcamp/week_5_batch_processing/code/fhvhv_tripdata/2021/02/part-00023-98d45f1b-31e7-4613-908e-92680769e48d-c000.snappy.parquet\r\n",
      "208M\ttotal\r\n"
     ]
    }
   ],
   "source": [
    "!du -ch  ~/data-engineering-zoomcamp/week_5_batch_processing/code/fhvhv_tripdata/2021/02/part-000*"
   ]
  },
  {
   "cell_type": "markdown",
   "id": "bb791f07",
   "metadata": {},
   "source": [
    "* ANS: 208M"
   ]
  },
  {
   "cell_type": "markdown",
   "id": "e4e08b89",
   "metadata": {},
   "source": [
    "### Question 2. Count records\n",
    "\n",
    "How many taxi trips were there on February 15?\n",
    "\n",
    "Consider only trips that started on February 15."
   ]
  },
  {
   "cell_type": "code",
   "execution_count": 125,
   "id": "6b735efb",
   "metadata": {},
   "outputs": [
    {
     "name": "stdout",
     "output_type": "stream",
     "text": [
      "root\n",
      " |-- hvfhs_license_num: string (nullable = true)\n",
      " |-- dispatching_base_num: string (nullable = true)\n",
      " |-- pickup_datetime: timestamp (nullable = true)\n",
      " |-- dropoff_datetime: timestamp (nullable = true)\n",
      " |-- PULocationID: integer (nullable = true)\n",
      " |-- DOLocationID: integer (nullable = true)\n",
      " |-- SR_Flag: string (nullable = true)\n",
      "\n"
     ]
    }
   ],
   "source": [
    "df.printSchema()"
   ]
  },
  {
   "cell_type": "code",
   "execution_count": 126,
   "id": "771fd813",
   "metadata": {},
   "outputs": [],
   "source": [
    "from pyspark.sql import functions as F"
   ]
  },
  {
   "cell_type": "code",
   "execution_count": 33,
   "id": "2eb5686c",
   "metadata": {},
   "outputs": [
    {
     "name": "stderr",
     "output_type": "stream",
     "text": [
      "[Stage 5:=================================================>         (5 + 1) / 6]\r"
     ]
    },
    {
     "name": "stdout",
     "output_type": "stream",
     "text": [
      "+-----------------+--------------------+-------------------+-------------------+------------+------------+-------+\n",
      "|hvfhs_license_num|dispatching_base_num|    pickup_datetime|   dropoff_datetime|PULocationID|DOLocationID|SR_Flag|\n",
      "+-----------------+--------------------+-------------------+-------------------+------------+------------+-------+\n",
      "|           HV0003|              B02867|2021-02-04 12:17:47|2021-02-04 12:34:48|         254|         212|   null|\n",
      "|           HV0005|              B02510|2021-02-06 16:31:12|2021-02-06 16:55:40|          68|         141|   null|\n",
      "|           HV0003|              B02872|2021-02-02 14:57:30|2021-02-02 15:08:19|         148|         211|   null|\n",
      "|           HV0005|              B02510|2021-02-02 14:37:13|2021-02-02 14:44:43|         260|         129|   null|\n",
      "|           HV0003|              B02617|2021-02-03 17:30:37|2021-02-03 17:40:59|          91|         149|   null|\n",
      "|           HV0003|              B02866|2021-02-06 15:46:51|2021-02-06 16:00:59|          41|          74|   null|\n",
      "|           HV0005|              B02510|2021-02-04 00:47:42|2021-02-04 00:54:25|         227|         227|   null|\n",
      "|           HV0005|              B02510|2021-02-06 06:05:47|2021-02-06 06:22:55|         233|         192|   null|\n",
      "|           HV0005|              B02510|2021-02-04 11:00:26|2021-02-04 11:09:24|          61|         177|   null|\n",
      "|           HV0003|              B02880|2021-02-01 19:43:29|2021-02-01 19:50:37|         129|         260|   null|\n",
      "|           HV0005|              B02510|2021-02-06 04:22:55|2021-02-06 04:31:08|         167|          69|   null|\n",
      "|           HV0003|              B02864|2021-02-06 08:17:42|2021-02-06 08:26:06|           7|         260|   null|\n",
      "|           HV0003|              B02870|2021-02-02 17:13:02|2021-02-02 17:36:08|          91|          26|   null|\n",
      "|           HV0003|              B02617|2021-02-06 12:01:21|2021-02-06 12:09:54|          89|          71|   null|\n",
      "|           HV0005|              B02510|2021-02-04 16:18:44|2021-02-04 16:42:00|         174|          60|   null|\n",
      "|           HV0003|              B02865|2021-02-06 16:53:01|2021-02-06 17:08:00|          89|         228|   null|\n",
      "|           HV0003|              B02765|2021-02-02 02:26:16|2021-02-02 02:38:58|         169|          60|   null|\n",
      "|           HV0003|              B02869|2021-02-03 19:04:05|2021-02-03 19:15:26|         236|         142|   null|\n",
      "|           HV0003|              B02765|2021-02-05 17:02:32|2021-02-05 17:17:15|          50|         233|   null|\n",
      "|           HV0003|              B02882|2021-02-06 09:44:10|2021-02-06 09:52:02|         188|          72|   null|\n",
      "+-----------------+--------------------+-------------------+-------------------+------------+------------+-------+\n",
      "only showing top 20 rows\n",
      "\n"
     ]
    },
    {
     "name": "stderr",
     "output_type": "stream",
     "text": [
      "\r",
      "                                                                                \r"
     ]
    }
   ],
   "source": [
    "df.show()"
   ]
  },
  {
   "cell_type": "code",
   "execution_count": 132,
   "id": "7440c2ce",
   "metadata": {},
   "outputs": [],
   "source": [
    "result_df = df \\\n",
    "    .withColumn('pickup_date', F.to_date(df.pickup_datetime)) \\\n",
    "    .withColumn('dropoff_date', F.to_date(df.dropoff_datetime)) \\\n",
    "    .withColumn('base_id', df.dispatching_base_num) \\\n",
    "    .select('base_id', 'pickup_date', 'dropoff_date', 'PULocationID', 'DOLocationID')\n",
    "   \n",
    "    \n"
   ]
  },
  {
   "cell_type": "code",
   "execution_count": 131,
   "id": "0bc5ed3b",
   "metadata": {},
   "outputs": [
    {
     "data": {
      "text/plain": [
       "5"
      ]
     },
     "execution_count": 131,
     "metadata": {},
     "output_type": "execute_result"
    }
   ],
   "source": [
    "result_df"
   ]
  },
  {
   "cell_type": "code",
   "execution_count": 133,
   "id": "261a0f60",
   "metadata": {},
   "outputs": [
    {
     "name": "stderr",
     "output_type": "stream",
     "text": [
      "[Stage 50:================================================>         (5 + 1) / 6]\r"
     ]
    },
    {
     "name": "stdout",
     "output_type": "stream",
     "text": [
      "+-------+-----------+------------+------------+------------+\n",
      "|base_id|pickup_date|dropoff_date|PULocationID|DOLocationID|\n",
      "+-------+-----------+------------+------------+------------+\n",
      "| B02876| 2021-02-15|  2021-02-15|          74|          42|\n",
      "| B02836| 2021-02-15|  2021-02-15|          72|          77|\n",
      "| B02835| 2021-02-15|  2021-02-15|         234|         157|\n",
      "| B02510| 2021-02-15|  2021-02-15|         116|         247|\n",
      "| B02872| 2021-02-15|  2021-02-15|         132|          17|\n",
      "| B02875| 2021-02-15|  2021-02-15|         255|           7|\n",
      "| B02872| 2021-02-15|  2021-02-15|         244|         127|\n",
      "| B02872| 2021-02-15|  2021-02-15|           3|         242|\n",
      "| B02764| 2021-02-15|  2021-02-15|         230|         170|\n",
      "| B02878| 2021-02-15|  2021-02-15|         243|         152|\n",
      "| B02510| 2021-02-15|  2021-02-15|         175|         171|\n",
      "| B02510| 2021-02-15|  2021-02-15|          17|          36|\n",
      "| B02872| 2021-02-15|  2021-02-15|         215|         216|\n",
      "| B02872| 2021-02-15|  2021-02-15|          60|          32|\n",
      "| B02510| 2021-02-15|  2021-02-15|          41|          68|\n",
      "| B02617| 2021-02-15|  2021-02-15|          18|          94|\n",
      "| B02510| 2021-02-15|  2021-02-15|         138|         265|\n",
      "| B02871| 2021-02-15|  2021-02-15|         116|         158|\n",
      "| B02878| 2021-02-15|  2021-02-15|         183|          51|\n",
      "| B02510| 2021-02-15|  2021-02-15|          36|         164|\n",
      "+-------+-----------+------------+------------+------------+\n",
      "only showing top 20 rows\n",
      "\n"
     ]
    },
    {
     "name": "stderr",
     "output_type": "stream",
     "text": [
      "\r",
      "                                                                                \r"
     ]
    }
   ],
   "source": [
    "result_df.filter((result_df.pickup_date == '2021-02-15')).show()"
   ]
  },
  {
   "cell_type": "code",
   "execution_count": 134,
   "id": "70d407b8",
   "metadata": {},
   "outputs": [
    {
     "name": "stderr",
     "output_type": "stream",
     "text": [
      "                                                                                \r"
     ]
    },
    {
     "data": {
      "text/plain": [
       "367170"
      ]
     },
     "execution_count": 134,
     "metadata": {},
     "output_type": "execute_result"
    }
   ],
   "source": [
    "result_df.filter((result_df.pickup_date == '2021-02-15')).count()"
   ]
  },
  {
   "cell_type": "code",
   "execution_count": 40,
   "id": "5086e826",
   "metadata": {},
   "outputs": [
    {
     "name": "stderr",
     "output_type": "stream",
     "text": [
      "                                                                                \r"
     ]
    },
    {
     "data": {
      "text/plain": [
       "367170"
      ]
     },
     "execution_count": 40,
     "metadata": {},
     "output_type": "execute_result"
    }
   ],
   "source": [
    "result_df.filter((result_df.pickup_date == '2021-02-15')).count()"
   ]
  },
  {
   "cell_type": "markdown",
   "id": "39e4c7b3",
   "metadata": {},
   "source": [
    "### ANS: 367170"
   ]
  },
  {
   "cell_type": "markdown",
   "id": "668616f7",
   "metadata": {},
   "source": [
    "### Question 3. Longest trip for each day\n",
    "\n",
    "Now calculate the duration for each trip.\n",
    "\n",
    "Trip starting on which day was the longest?"
   ]
  },
  {
   "cell_type": "code",
   "execution_count": 148,
   "id": "9dda5b33",
   "metadata": {},
   "outputs": [],
   "source": [
    "result_df1 = df \\\n",
    "    .withColumn('pickup_date', F.to_date(df.pickup_datetime)) \\\n",
    "    .withColumn('dropoff_date', F.to_date(df.dropoff_datetime)) \\\n",
    "    .withColumn('base_id', df.dispatching_base_num) \\\n",
    "    .withColumn('duration', (df.dropoff_datetime.cast(\"long\") - df.pickup_datetime.cast(\"long\"))/60 ) \\\n",
    "    .select('base_id', 'pickup_date', 'dropoff_date', 'duration', 'PULocationID', 'DOLocationID')\n",
    "    "
   ]
  },
  {
   "cell_type": "code",
   "execution_count": 149,
   "id": "58684de2",
   "metadata": {},
   "outputs": [
    {
     "name": "stderr",
     "output_type": "stream",
     "text": [
      "[Stage 63:================================================>         (5 + 1) / 6]\r"
     ]
    },
    {
     "name": "stdout",
     "output_type": "stream",
     "text": [
      "+-------+-----------+------------+------------------+------------+------------+\n",
      "|base_id|pickup_date|dropoff_date|          duration|PULocationID|DOLocationID|\n",
      "+-------+-----------+------------+------------------+------------+------------+\n",
      "| B02800| 2021-02-05|  2021-02-05|10.083333333333334|         161|         143|\n",
      "| B02510| 2021-02-03|  2021-02-03|28.083333333333332|         246|          74|\n",
      "| B02510| 2021-02-04|  2021-02-04|              28.5|          89|         181|\n",
      "| B02682| 2021-02-04|  2021-02-04|13.733333333333333|         121|         219|\n",
      "| B02879| 2021-02-02|  2021-02-02| 7.033333333333333|         153|         127|\n",
      "| B02871| 2021-02-01|  2021-02-01| 33.63333333333333|         205|         177|\n",
      "| B02872| 2021-02-01|  2021-02-01|              9.55|         244|         243|\n",
      "| B02889| 2021-02-03|  2021-02-03| 7.633333333333334|          92|          92|\n",
      "| B02510| 2021-02-04|  2021-02-04|23.883333333333333|         203|         265|\n",
      "| B02510| 2021-02-04|  2021-02-04|12.716666666666667|          36|         157|\n",
      "| B02887| 2021-02-04|  2021-02-04|14.666666666666666|          71|          71|\n",
      "| B02764| 2021-02-03|  2021-02-03| 4.833333333333333|          62|          61|\n",
      "| B02835| 2021-02-03|  2021-02-03|21.483333333333334|          95|         226|\n",
      "| B02510| 2021-02-04|  2021-02-04| 7.933333333333334|         191|         265|\n",
      "| B02510| 2021-02-04|  2021-02-04|25.166666666666668|         114|         116|\n",
      "| B02883| 2021-02-03|  2021-02-03| 8.016666666666667|         164|         162|\n",
      "| B02510| 2021-02-03|  2021-02-03|              18.4|          90|         232|\n",
      "| B02872| 2021-02-06|  2021-02-06|27.383333333333333|           3|          60|\n",
      "| B02510| 2021-02-05|  2021-02-05|             12.65|         226|          82|\n",
      "| B02510| 2021-02-06|  2021-02-06|12.033333333333333|         225|          61|\n",
      "+-------+-----------+------------+------------------+------------+------------+\n",
      "only showing top 20 rows\n",
      "\n"
     ]
    },
    {
     "name": "stderr",
     "output_type": "stream",
     "text": [
      "\r",
      "                                                                                \r"
     ]
    }
   ],
   "source": [
    "result_df1.show()"
   ]
  },
  {
   "cell_type": "code",
   "execution_count": 153,
   "id": "6ae9bfb7",
   "metadata": {},
   "outputs": [
    {
     "name": "stderr",
     "output_type": "stream",
     "text": [
      "[Stage 67:================================================>         (5 + 1) / 6]\r"
     ]
    },
    {
     "name": "stdout",
     "output_type": "stream",
     "text": [
      "+-------+-----------+------------+------------------+------------+------------+\n",
      "|base_id|pickup_date|dropoff_date|          duration|PULocationID|DOLocationID|\n",
      "+-------+-----------+------------+------------------+------------+------------+\n",
      "| B02888| 2021-02-03|  2021-02-03|               9.3|         213|         183|\n",
      "| B02888| 2021-02-03|  2021-02-03|             21.95|         141|         185|\n",
      "| B02864| 2021-02-03|  2021-02-03|              14.8|          47|         185|\n",
      "| B02876| 2021-02-03|  2021-02-03|12.083333333333334|         168|         213|\n",
      "| B02510| 2021-02-03|  2021-02-03|             37.95|          75|         112|\n",
      "| B02871| 2021-02-03|  2021-02-03|              18.1|          20|         235|\n",
      "| B02764| 2021-02-03|  2021-02-03| 40.68333333333333|          10|          35|\n",
      "| B02876| 2021-02-03|  2021-02-03|23.283333333333335|          95|         102|\n",
      "| B02888| 2021-02-03|  2021-02-03| 8.283333333333333|           3|         254|\n",
      "| B02510| 2021-02-03|  2021-02-03|16.633333333333333|         255|          49|\n",
      "| B02395| 2021-02-03|  2021-02-03|               9.8|          75|          74|\n",
      "| B02888| 2021-02-03|  2021-02-03| 7.466666666666667|          77|          35|\n",
      "| B02510| 2021-02-03|  2021-02-03|14.533333333333333|         152|          48|\n",
      "| B02882| 2021-02-03|  2021-02-03| 5.766666666666667|          61|          62|\n",
      "| B02764| 2021-02-03|  2021-02-03|17.966666666666665|          14|         261|\n",
      "| B02872| 2021-02-03|  2021-02-03|21.766666666666666|         208|         244|\n",
      "| B02872| 2021-02-03|  2021-02-03| 5.766666666666667|         233|         164|\n",
      "| B02880| 2021-02-03|  2021-02-03|             22.35|          25|          61|\n",
      "| B02887| 2021-02-03|  2021-02-03|              9.85|         109|         118|\n",
      "| B02764| 2021-02-03|  2021-02-03|               3.3|         255|         112|\n",
      "+-------+-----------+------------+------------------+------------+------------+\n",
      "only showing top 20 rows\n",
      "\n"
     ]
    },
    {
     "name": "stderr",
     "output_type": "stream",
     "text": [
      "\r",
      "                                                                                \r"
     ]
    }
   ],
   "source": [
    "result_df1.filter(result_df1.pickup_date == '2021-02-03').show()"
   ]
  },
  {
   "cell_type": "code",
   "execution_count": 145,
   "id": "9d3b0619",
   "metadata": {},
   "outputs": [
    {
     "name": "stdout",
     "output_type": "stream",
     "text": [
      "root\n",
      " |-- base_id: string (nullable = true)\n",
      " |-- pickup_date: date (nullable = true)\n",
      " |-- dropoff_date: date (nullable = true)\n",
      " |-- duration: interval (nullable = true)\n",
      " |-- PULocationID: integer (nullable = true)\n",
      " |-- DOLocationID: integer (nullable = true)\n",
      "\n"
     ]
    }
   ],
   "source": [
    "result_df1.printSchemahemaSchemantSchema()"
   ]
  },
  {
   "cell_type": "code",
   "execution_count": 79,
   "id": "768da54d",
   "metadata": {},
   "outputs": [
    {
     "name": "stderr",
     "output_type": "stream",
     "text": [
      "[Stage 25:================================================>         (5 + 1) / 6]\r"
     ]
    },
    {
     "name": "stdout",
     "output_type": "stream",
     "text": [
      "+-------+-----------+------------+--------------------+\n",
      "|base_id|pickup_date|dropoff_date|            duration|\n",
      "+-------+-----------+------------+--------------------+\n",
      "| B02864| 2021-02-03|  2021-02-03|24 minutes 31 sec...|\n",
      "| B02395| 2021-02-02|  2021-02-02|6 minutes 18 seconds|\n",
      "| B02870| 2021-02-06|  2021-02-06|3 minutes 37 seconds|\n",
      "| B02887| 2021-02-04|  2021-02-04|8 minutes 37 seconds|\n",
      "| B02510| 2021-02-04|  2021-02-05|22 minutes 42 sec...|\n",
      "| B02872| 2021-02-03|  2021-02-03|11 minutes 36 sec...|\n",
      "| B02872| 2021-02-03|  2021-02-03|25 minutes 38 sec...|\n",
      "| B02866| 2021-02-06|  2021-02-06|11 minutes 36 sec...|\n",
      "| B02875| 2021-02-04|  2021-02-04|12 minutes 16 sec...|\n",
      "| B02872| 2021-02-05|  2021-02-05|7 minutes 27 seconds|\n",
      "| B02510| 2021-02-05|  2021-02-05|30 minutes 12 sec...|\n",
      "| B02872| 2021-02-03|  2021-02-03|45 minutes 32 sec...|\n",
      "| B02882| 2021-02-06|  2021-02-06|21 minutes 12 sec...|\n",
      "| B02872| 2021-02-02|  2021-02-02| 6 minutes 6 seconds|\n",
      "| B02510| 2021-02-06|  2021-02-06|21 minutes 4 seconds|\n",
      "| B02876| 2021-02-02|  2021-02-02|8 minutes 46 seconds|\n",
      "| B02882| 2021-02-05|  2021-02-05|35 minutes 42 sec...|\n",
      "| B02764| 2021-02-02|  2021-02-02|24 minutes 40 sec...|\n",
      "| B02884| 2021-02-04|  2021-02-04|12 minutes 6 seconds|\n",
      "| B02765| 2021-02-03|  2021-02-03|10 minutes 44 sec...|\n",
      "+-------+-----------+------------+--------------------+\n",
      "only showing top 20 rows\n",
      "\n"
     ]
    },
    {
     "name": "stderr",
     "output_type": "stream",
     "text": [
      "\r",
      "                                                                                \r"
     ]
    }
   ],
   "source": [
    "result_df1.select('base_id', 'pickup_date', 'dropoff_date', 'duration').show()\n"
   ]
  },
  {
   "cell_type": "code",
   "execution_count": 140,
   "id": "91b986b0",
   "metadata": {},
   "outputs": [
    {
     "name": "stdout",
     "output_type": "stream",
     "text": [
      "root\n",
      " |-- base_id: string (nullable = true)\n",
      " |-- pickup_date: date (nullable = true)\n",
      " |-- dropoff_date: date (nullable = true)\n",
      " |-- duration: interval (nullable = true)\n",
      " |-- PULocationID: integer (nullable = true)\n",
      " |-- DOLocationID: integer (nullable = true)\n",
      "\n"
     ]
    }
   ],
   "source": [
    "result_df1.printSchema()"
   ]
  },
  {
   "cell_type": "code",
   "execution_count": 160,
   "id": "62b0f6a3",
   "metadata": {},
   "outputs": [
    {
     "name": "stderr",
     "output_type": "stream",
     "text": [
      "                                                                                \r"
     ]
    }
   ],
   "source": [
    "# df.agg(max(df(df.columns(1))), min(df(df.columns(1)))).show\n",
    "# df.groupBy('pickup_date').max('duration').collect()\n",
    "\n",
    "from pyspark.sql.functions import col\n",
    "result_df2 = result_df1.groupBy('pickup_date').max('duration').collect()\n"
   ]
  },
  {
   "cell_type": "code",
   "execution_count": 165,
   "id": "bcb239e0",
   "metadata": {},
   "outputs": [
    {
     "data": {
      "text/plain": [
       "[Row(pickup_date=datetime.date(2021, 2, 15), max(duration)=431.23333333333335),\n",
       " Row(pickup_date=datetime.date(2021, 2, 2), max(duration)=515.2166666666667),\n",
       " Row(pickup_date=datetime.date(2021, 2, 26), max(duration)=407.03333333333336),\n",
       " Row(pickup_date=datetime.date(2021, 2, 21), max(duration)=537.05),\n",
       " Row(pickup_date=datetime.date(2021, 2, 5), max(duration)=508.51666666666665),\n",
       " Row(pickup_date=datetime.date(2021, 2, 10), max(duration)=569.4833333333333),\n",
       " Row(pickup_date=datetime.date(2021, 2, 1), max(duration)=343.96666666666664),\n",
       " Row(pickup_date=datetime.date(2021, 2, 6), max(duration)=524.1166666666667),\n",
       " Row(pickup_date=datetime.date(2021, 2, 19), max(duration)=626.2833333333333),\n",
       " Row(pickup_date=datetime.date(2021, 2, 20), max(duration)=733.9833333333333),\n",
       " Row(pickup_date=datetime.date(2021, 2, 8), max(duration)=501.76666666666665),\n",
       " Row(pickup_date=datetime.date(2021, 2, 9), max(duration)=534.7833333333333),\n",
       " Row(pickup_date=datetime.date(2021, 2, 11), max(duration)=1259.0),\n",
       " Row(pickup_date=datetime.date(2021, 2, 17), max(duration)=953.6833333333333),\n",
       " Row(pickup_date=datetime.date(2021, 2, 25), max(duration)=583.5),\n",
       " Row(pickup_date=datetime.date(2021, 2, 27), max(duration)=452.8333333333333),\n",
       " Row(pickup_date=datetime.date(2021, 2, 24), max(duration)=394.48333333333335),\n",
       " Row(pickup_date=datetime.date(2021, 2, 18), max(duration)=576.8666666666667),\n",
       " Row(pickup_date=datetime.date(2021, 2, 14), max(duration)=496.28333333333336),\n",
       " Row(pickup_date=datetime.date(2021, 2, 12), max(duration)=502.46666666666664),\n",
       " Row(pickup_date=datetime.date(2021, 2, 22), max(duration)=471.3),\n",
       " Row(pickup_date=datetime.date(2021, 2, 3), max(duration)=677.55),\n",
       " Row(pickup_date=datetime.date(2021, 2, 13), max(duration)=357.3666666666667),\n",
       " Row(pickup_date=datetime.date(2021, 2, 23), max(duration)=407.31666666666666),\n",
       " Row(pickup_date=datetime.date(2021, 2, 16), max(duration)=424.01666666666665),\n",
       " Row(pickup_date=datetime.date(2021, 2, 7), max(duration)=294.53333333333336),\n",
       " Row(pickup_date=datetime.date(2021, 2, 28), max(duration)=330.8333333333333),\n",
       " Row(pickup_date=datetime.date(2021, 2, 4), max(duration)=426.53333333333336)]"
      ]
     },
     "execution_count": 165,
     "metadata": {},
     "output_type": "execute_result"
    }
   ],
   "source": [
    "result_df2"
   ]
  },
  {
   "cell_type": "code",
   "execution_count": null,
   "id": "74d39c8c",
   "metadata": {},
   "outputs": [],
   "source": []
  },
  {
   "cell_type": "markdown",
   "id": "1c9b2828",
   "metadata": {},
   "source": [
    "ANS: Row(pickup_date=datetime.date(2021, 2, 11), max(duration)=1259.0),\n"
   ]
  },
  {
   "cell_type": "markdown",
   "id": "d62a47e8",
   "metadata": {},
   "source": [
    "### Question 4. Most common locations pair\n",
    "Find the most common pickup-dropoff pair.\n",
    "\n",
    "For example:\n",
    "\n",
    "\"Jamaica Bay / Clinton East\"\n",
    "\n",
    "Enter two zone names separated by a slash\n",
    "\n",
    "If any of the zone names are unknown (missing), use \"Unknown\". For example, \"Unknown / Clinton East\"."
   ]
  },
  {
   "cell_type": "code",
   "execution_count": 167,
   "id": "7f0eacce",
   "metadata": {},
   "outputs": [],
   "source": [
    "df.registerTempTable('fhvhv_2021_02')"
   ]
  },
  {
   "cell_type": "code",
   "execution_count": 173,
   "id": "e761dea7",
   "metadata": {},
   "outputs": [],
   "source": [
    "df_zones = spark.read.parquet('/home/thamizh/zones')"
   ]
  },
  {
   "cell_type": "code",
   "execution_count": 174,
   "id": "bc779b7f",
   "metadata": {},
   "outputs": [
    {
     "data": {
      "text/plain": [
       "['LocationID', 'Borough', 'Zone', 'service_zone']"
      ]
     },
     "execution_count": 174,
     "metadata": {},
     "output_type": "execute_result"
    }
   ],
   "source": [
    "df_zones.columns"
   ]
  },
  {
   "cell_type": "code",
   "execution_count": 175,
   "id": "b9e8cd68",
   "metadata": {},
   "outputs": [],
   "source": [
    "df_zones.registerTempTable('zones')"
   ]
  },
  {
   "cell_type": "code",
   "execution_count": 176,
   "id": "41dad672",
   "metadata": {},
   "outputs": [
    {
     "name": "stderr",
     "output_type": "stream",
     "text": [
      "[Stage 79:=============================================>        (167 + 4) / 200]\r"
     ]
    },
    {
     "name": "stdout",
     "output_type": "stream",
     "text": [
      "+--------------------+--------+\n",
      "|          pu_do_pair|count(1)|\n",
      "+--------------------+--------+\n",
      "|East New York / E...|   45041|\n",
      "|Borough Park / Bo...|   37329|\n",
      "| Canarsie / Canarsie|   28026|\n",
      "|Crown Heights Nor...|   25976|\n",
      "|Bay Ridge / Bay R...|   17934|\n",
      "+--------------------+--------+\n",
      "\n"
     ]
    },
    {
     "name": "stderr",
     "output_type": "stream",
     "text": [
      "\r",
      "                                                                                \r"
     ]
    }
   ],
   "source": [
    "spark.sql(\"\"\"\n",
    "SELECT\n",
    "    CONCAT(pul.Zone, ' / ', dol.Zone) AS pu_do_pair,\n",
    "    COUNT(1)\n",
    "FROM \n",
    "    fhvhv_2021_02 fhv LEFT JOIN zones pul ON fhv.PULocationID = pul.LocationID\n",
    "                      LEFT JOIN zones dol ON fhv.DOLocationID = dol.LocationID\n",
    "GROUP BY \n",
    "    1\n",
    "ORDER BY\n",
    "    2 DESC\n",
    "LIMIT 5;\n",
    "\"\"\").show()"
   ]
  }
 ],
 "metadata": {
  "kernelspec": {
   "display_name": "Python 3 (ipykernel)",
   "language": "python",
   "name": "python3"
  },
  "language_info": {
   "codemirror_mode": {
    "name": "ipython",
    "version": 3
   },
   "file_extension": ".py",
   "mimetype": "text/x-python",
   "name": "python",
   "nbconvert_exporter": "python",
   "pygments_lexer": "ipython3",
   "version": "3.9.12"
  }
 },
 "nbformat": 4,
 "nbformat_minor": 5
}
